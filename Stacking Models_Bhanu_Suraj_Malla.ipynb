{
  "nbformat": 4,
  "nbformat_minor": 0,
  "metadata": {
    "colab": {
      "name": "Assignment3_Bhanu Suraj Malla.ipynb",
      "provenance": [],
      "collapsed_sections": []
    },
    "kernelspec": {
      "name": "python3",
      "display_name": "Python 3"
    },
    "accelerator": "GPU"
  },
  "cells": [
    {
      "cell_type": "code",
      "metadata": {
        "id": "ssHb9Ex38bdk",
        "colab_type": "code",
        "outputId": "65d35ce4-42e6-4b32-c961-a36aaab57abb",
        "colab": {
          "base_uri": "https://localhost:8080/",
          "height": 102
        }
      },
      "source": [
        "!pip install vecstack"
      ],
      "execution_count": 11,
      "outputs": [
        {
          "output_type": "stream",
          "text": [
            "Requirement already satisfied: vecstack in /usr/local/lib/python3.6/dist-packages (0.4.0)\n",
            "Requirement already satisfied: scipy in /usr/local/lib/python3.6/dist-packages (from vecstack) (1.3.1)\n",
            "Requirement already satisfied: scikit-learn>=0.18 in /usr/local/lib/python3.6/dist-packages (from vecstack) (0.21.3)\n",
            "Requirement already satisfied: numpy in /usr/local/lib/python3.6/dist-packages (from vecstack) (1.17.3)\n",
            "Requirement already satisfied: joblib>=0.11 in /usr/local/lib/python3.6/dist-packages (from scikit-learn>=0.18->vecstack) (0.14.0)\n"
          ],
          "name": "stdout"
        }
      ]
    },
    {
      "cell_type": "code",
      "metadata": {
        "id": "Thb5fDpK_E9n",
        "colab_type": "code",
        "colab": {}
      },
      "source": [
        "from vecstack import stacking\n",
        "import pandas as pd\n",
        "import numpy as np\n",
        "from sklearn.metrics import accuracy_score, classification_report, confusion_matrix\n",
        "from sklearn.model_selection import train_test_split\n",
        "from sklearn.ensemble import RandomForestClassifier, GradientBoostingClassifier\n",
        "from sklearn.tree import DecisionTreeClassifier\n",
        "from sklearn.svm import LinearSVC\n",
        "from sklearn.neural_network import MLPClassifier\n",
        "from sklearn.neighbors import KNeighborsClassifier\n",
        "from sklearn.model_selection import GridSearchCV, RandomizedSearchCV, cross_val_score\n",
        "from imblearn.over_sampling import SMOTE\n",
        "from collections import Counter\n",
        "\n",
        "import warnings\n",
        "warnings.filterwarnings(\"ignore\")"
      ],
      "execution_count": 0,
      "outputs": []
    },
    {
      "cell_type": "code",
      "metadata": {
        "id": "RPOxR1n1_F-Z",
        "colab_type": "code",
        "outputId": "706c5a89-498f-409c-bc0a-59b96bc41a64",
        "colab": {
          "base_uri": "https://localhost:8080/",
          "height": 51
        }
      },
      "source": [
        "from google.colab import drive\n",
        "drive.mount('/gdrive')\n",
        "%cd /gdrive\n",
        "\n",
        "trainfile = r'/gdrive/My Drive/Assignments/Assignment3/RevisedHomesiteTrain.csv'\n",
        "testfile = r'/gdrive/My Drive/Assignments/Assignment3/RevisedHomesiteTest.csv'\n",
        "\n",
        "train_data = pd.read_csv(trainfile)\n",
        "test_data = pd.read_csv(testfile)\n",
        "\n",
        "\n"
      ],
      "execution_count": 14,
      "outputs": [
        {
          "output_type": "stream",
          "text": [
            "Drive already mounted at /gdrive; to attempt to forcibly remount, call drive.mount(\"/gdrive\", force_remount=True).\n",
            "/gdrive\n"
          ],
          "name": "stdout"
        }
      ]
    },
    {
      "cell_type": "code",
      "metadata": {
        "id": "RteZYoGE_GDL",
        "colab_type": "code",
        "outputId": "ed6abfd3-0bc4-49d3-ac6d-715fee5b340a",
        "colab": {
          "base_uri": "https://localhost:8080/",
          "height": 323
        }
      },
      "source": [
        "#checking the data\n",
        "print(train_data.shape)\n",
        "print(test_data.shape)\n",
        "print(train_data.head())\n",
        "print(test_data.head())\n"
      ],
      "execution_count": 15,
      "outputs": [
        {
          "output_type": "stream",
          "text": [
            "(65000, 596)\n",
            "(173836, 596)\n",
            "   CoverageField11A  ...  QuoteConversion_Flag\n",
            "0                 2  ...                     0\n",
            "1                 5  ...                     0\n",
            "2                 4  ...                     0\n",
            "3                15  ...                     0\n",
            "4                 4  ...                     0\n",
            "\n",
            "[5 rows x 596 columns]\n",
            "   CoverageField11A  CoverageField11B  ...  GeographicField64_TX  GeographicField64\n",
            "0                13                22  ...                     0                 IL\n",
            "1                 4                 5  ...                     0                 NJ\n",
            "2                 3                 3  ...                     0                 NJ\n",
            "3                 5                 9  ...                     0                 TX\n",
            "4                12                21  ...                     0                 CA\n",
            "\n",
            "[5 rows x 596 columns]\n"
          ],
          "name": "stdout"
        }
      ]
    },
    {
      "cell_type": "code",
      "metadata": {
        "id": "Hlv6lIqWUc7P",
        "colab_type": "code",
        "colab": {}
      },
      "source": [
        "#splitting train_data\n",
        "X_train = train_data.iloc[:,:-1]\n",
        "Y_train = train_data[\"QuoteConversion_Flag\"]\n",
        "print(X_train.head())\n",
        "print(Y_train.head())\n",
        "\n",
        "#removing the last column of test data as it is already hot encoded\n",
        "X_test = test_data.iloc[:,:-1]\n",
        "print(X_test.head())"
      ],
      "execution_count": 0,
      "outputs": []
    },
    {
      "cell_type": "code",
      "metadata": {
        "id": "COL5sHnXqJx3",
        "colab_type": "code",
        "outputId": "786e9630-5466-4d5f-df9c-e7638949baa3",
        "colab": {
          "base_uri": "https://localhost:8080/",
          "height": 51
        }
      },
      "source": [
        "#Decision tree without SMOTE\n",
        "dtc = DecisionTreeClassifier()\n",
        "dtc = dtc.fit(X_train, Y_train)\n",
        "dtc_cv_score = cross_val_score(dtc, X_train, Y_train, cv=10, scoring = \"roc_auc\" )\n",
        "print(\"Mean AUC score for decision tree without SMOTE sampling technique:\")\n",
        "print(dtc_cv_score.mean())\n",
        "resDF = pd.DataFrame(dtc.predict(X_test), columns= ['QuoteConversion_Flag'])\n",
        "resultDTC = pd.concat([X_test['QuoteNumber'], resDF], axis = 1)\n",
        "resultDTC.to_csv(\"/gdrive/My Drive/Assignments/Assignment3/resultDTC.csv\", index = None)\n"
      ],
      "execution_count": 17,
      "outputs": [
        {
          "output_type": "stream",
          "text": [
            "Mean AUC score for decision tree without SMOTE sampling technique:\n",
            "0.8135516116445698\n"
          ],
          "name": "stdout"
        }
      ]
    },
    {
      "cell_type": "code",
      "metadata": {
        "id": "iOk_wbPN_GFo",
        "colab_type": "code",
        "outputId": "915e92bb-070e-48c0-fa4a-cb5640bce9f4",
        "colab": {
          "base_uri": "https://localhost:8080/",
          "height": 51
        }
      },
      "source": [
        "#balancing the train data using SMOTE methodology\n",
        "print(\"Original dataset shape %s\" % Counter(Y_train))\n",
        "sm = SMOTE(sampling_strategy = 'float', ratio = 0.6)\n",
        "X_res, Y_res = sm.fit_resample(X_train, Y_train)\n",
        "print(\"Resampled Sample shape %s\" % Counter(Y_res))\n"
      ],
      "execution_count": 18,
      "outputs": [
        {
          "output_type": "stream",
          "text": [
            "Original dataset shape Counter({0: 52738, 1: 12262})\n",
            "Resampled Sample shape Counter({0: 52738, 1: 31642})\n"
          ],
          "name": "stdout"
        }
      ]
    },
    {
      "cell_type": "code",
      "metadata": {
        "id": "wGsq0-U__GA3",
        "colab_type": "code",
        "outputId": "dd4303c0-f7f5-4e57-8edf-765e8573da96",
        "colab": {
          "base_uri": "https://localhost:8080/",
          "height": 51
        }
      },
      "source": [
        "#Using SMOTE data on multiple models:\n",
        "#Decision Trees without tuning\n",
        "clf = DecisionTreeClassifier()\n",
        "clf = clf.fit(X_res, Y_res)\n",
        "clf_cv_score = cross_val_score(clf, X_res, Y_res, cv = 10, scoring = \"roc_auc\")\n",
        "print(\"Mean AUC Score for normal Decision tree after SMOTE:\")\n",
        "print(clf_cv_score.mean())\n",
        "resDF = pd.DataFrame(clf.predict(X_test), columns= ['QuoteConversion_Flag'])\n",
        "resultDTC = pd.concat([X_test['QuoteNumber'], resDF], axis = 1)\n",
        "resultDTC.to_csv(\"/gdrive/My Drive/Assignments/Assignment3/resultDTCAfterSMOTE.csv\", index = None)\n"
      ],
      "execution_count": 19,
      "outputs": [
        {
          "output_type": "stream",
          "text": [
            "Mean AUC Score for normal Decision tree after SMOTE:\n",
            "0.7822020310114891\n"
          ],
          "name": "stdout"
        }
      ]
    },
    {
      "cell_type": "code",
      "metadata": {
        "id": "4uO3lsQIumcB",
        "colab_type": "code",
        "colab": {}
      },
      "source": [
        "#Decision Trees with Hyperparameter tuning\n",
        "parameters = {'criterion': ['gini', 'entropy'], 'min_samples_split' : range(50,100,10),'max_depth': range(10,100,10)}\n",
        "clf_random = RandomizedSearchCV(clf, parameters, scoring = \"roc_auc\", n_iter = 15, cv = 5)\n",
        "clf_random = clf_random.fit(X_res, Y_res)\n",
        "random_param = clf_random.best_params_\n"
      ],
      "execution_count": 0,
      "outputs": []
    },
    {
      "cell_type": "code",
      "metadata": {
        "id": "sDBs4TLxpgjw",
        "colab_type": "code",
        "colab": {
          "base_uri": "https://localhost:8080/",
          "height": 51
        },
        "outputId": "bd1b0a6e-1e16-4bc2-fab1-814f21988e84"
      },
      "source": [
        "#decision tree classifier with new optimum parameters\n",
        "clf_tuned = DecisionTreeClassifier(**random_param)\n",
        "clf_tuned=clf_tuned.fit(X_res,Y_res)\n",
        "clf_cv_score = cross_val_score(clf_tuned, X_res, Y_res, cv = 10, scoring = \"roc_auc\")\n",
        "print(\"Mean AUC Score for tuned Decision tree after SMOTE:\")\n",
        "print(clf_cv_score.mean())\n",
        "\n",
        "resDF = pd.DataFrame(clf_tuned.predict(X_test), columns= ['QuoteConversion_Flag'])\n",
        "resultDTC = pd.concat([X_test['QuoteNumber'], resDF], axis = 1)\n",
        "resultDTC.to_csv(\"/gdrive/My Drive/Assignments/Assignment3/resultTunedDTCAfterSMOTE.csv\", index = None)\n"
      ],
      "execution_count": 21,
      "outputs": [
        {
          "output_type": "stream",
          "text": [
            "Mean AUC Score for tuned Decision tree after SMOTE:\n",
            "0.8489199105253225\n"
          ],
          "name": "stdout"
        }
      ]
    },
    {
      "cell_type": "code",
      "metadata": {
        "id": "wIToik8CtXHs",
        "colab_type": "code",
        "colab": {}
      },
      "source": [
        "#Random Forest Trees with Hyperparameter tuning\n",
        "parameters = {'criterion': ['gini', 'entropy'], 'min_samples_split' : range(50,100,10),'max_depth': range(10,100,10)}\n",
        "rfc_random = RandomizedSearchCV(clf, parameters, scoring = \"roc_auc\", cv = 5)\n",
        "rfc_random = rfc_random.fit(X_res, Y_res)\n",
        "random_param = rfc_random.best_params_\n"
      ],
      "execution_count": 0,
      "outputs": []
    },
    {
      "cell_type": "code",
      "metadata": {
        "id": "NfmHer0NqDKS",
        "colab_type": "code",
        "colab": {
          "base_uri": "https://localhost:8080/",
          "height": 51
        },
        "outputId": "a8e36399-29ae-44a1-f053-1885908ec79a"
      },
      "source": [
        "#Random Forest tree classifier with new optimum parameters\n",
        "rfc_tuned = RandomForestClassifier(**random_param)\n",
        "rfc_tuned = rfc_tuned.fit(X_res,Y_res)\n",
        "rfc_cv_score = cross_val_score(rfc_tuned, X_res, Y_res, cv = 10, scoring = \"roc_auc\")\n",
        "print(\"Mean AUC Score for tuned Random Forest Tree after SMOTE:\")\n",
        "print(rfc_cv_score.mean())\n",
        "\n",
        "resDF = pd.DataFrame(rfc_tuned.predict(X_test), columns= ['QuoteConversion_Flag'])\n",
        "resultRFC = pd.concat([X_test['QuoteNumber'], resDF], axis = 1)\n",
        "resultRFC.to_csv(\"/gdrive/My Drive/Assignments/Assignment3/resultTunedRFCAfterSMOTE.csv\", index = None)"
      ],
      "execution_count": 23,
      "outputs": [
        {
          "output_type": "stream",
          "text": [
            "Mean AUC Score for tuned Random Forest Tree after SMOTE:\n",
            "0.9665957010878434\n"
          ],
          "name": "stdout"
        }
      ]
    },
    {
      "cell_type": "code",
      "metadata": {
        "id": "RuPuf2x-kIzb",
        "colab_type": "code",
        "colab": {
          "base_uri": "https://localhost:8080/",
          "height": 51
        },
        "outputId": "b99ef1e1-a7e4-4e78-e963-20ced39c3d3d"
      },
      "source": [
        "#K nearest Neighbours\n",
        "KNN_Classifier = KNeighborsClassifier(n_neighbors = 5)\n",
        "KNN_Classifier = KNN_Classifier.fit(X_res, Y_res)\n",
        "KNN_cv_score = cross_val_score(KNN_Classifier, X_res, Y_res, cv = 10, scoring = \"roc_auc\")\n",
        "print(\"Mean AUC Score for KNN after SMOTE:\")\n",
        "print(KNN_cv_score.mean())\n",
        "\n",
        "resDF = pd.DataFrame(KNN_Classifier.predict(X_test), columns= ['QuoteConversion_Flag'])\n",
        "resultKNN = pd.concat([X_test['QuoteNumber'], resDF], axis = 1)\n",
        "resultKNN.to_csv(\"/gdrive/My Drive/Assignments/Assignment3/resultTunedKNNAfterSMOTE.csv\", index = None)"
      ],
      "execution_count": 24,
      "outputs": [
        {
          "output_type": "stream",
          "text": [
            "Mean AUC Score for KNN after SMOTE:\n",
            "0.15454472896083074\n"
          ],
          "name": "stdout"
        }
      ]
    },
    {
      "cell_type": "code",
      "metadata": {
        "id": "p6JZGBzYkb9x",
        "colab_type": "code",
        "colab": {
          "base_uri": "https://localhost:8080/",
          "height": 51
        },
        "outputId": "daf5c836-8660-42bf-9261-f00d0ea5f188"
      },
      "source": [
        "#Multilayer Perceptron classifier\n",
        "MLPClf = MLPClassifier(solver='lbfgs', alpha=1e-5, hidden_layer_sizes=(5, 2), random_state=1)\n",
        "MLPClf = MLPClf.fit(X_res,Y_res)\n",
        "MLP_cv_score = cross_val_score(MLPClf, X_res, Y_res, cv = 10, scoring = \"roc_auc\")\n",
        "print(\"Mean AUC Score for MLP after SMOTE:\")\n",
        "print(MLP_cv_score.mean())\n",
        "\n",
        "resDF = pd.DataFrame(MLPClf.predict(X_test), columns= ['QuoteConversion_Flag'])\n",
        "resultMLP = pd.concat([X_test['QuoteNumber'], resDF], axis = 1)\n",
        "resultMLP.to_csv(\"/gdrive/My Drive/Assignments/Assignment3/resultMLPAfterSMOTE.csv\", index = None)\n"
      ],
      "execution_count": 25,
      "outputs": [
        {
          "output_type": "stream",
          "text": [
            "Mean AUC Score for MLP after SMOTE:\n",
            "0.5\n"
          ],
          "name": "stdout"
        }
      ]
    },
    {
      "cell_type": "code",
      "metadata": {
        "id": "sPG-kXbFyV-C",
        "colab_type": "code",
        "colab": {}
      },
      "source": [
        "#Support Vector machines \n",
        "SVM_clf = LinearSVC()\n",
        "SVM_clf = SVM_clf.fit(X_res, Y_res)\n",
        "#SVM_cv_score = cross_val_score(SVM_clf, X_res, Y_res, cv = 10, scoring = \"roc_auc\")\n",
        "#print(\"Mean AUC Score for SVM after SMOTE:\")\n",
        "#print(SVM_cv_score.mean())\n",
        "\n",
        "resDF = pd.DataFrame(SVM_clf.predict(X_test), columns= ['QuoteConversion_Flag'])\n",
        "resultSVM = pd.concat([X_test['QuoteNumber'], resDF], axis = 1)\n",
        "resultSVM.to_csv(\"/gdrive/My Drive/Assignments/Assignment3/resultSVMAfterSMOTE.csv\", index = None)\n"
      ],
      "execution_count": 0,
      "outputs": []
    },
    {
      "cell_type": "code",
      "metadata": {
        "id": "2r-TBg_u9tgA",
        "colab_type": "code",
        "colab": {}
      },
      "source": [
        "#Gradient Boosting Clssifier\n",
        "GB_clf = GradientBoostingClassifier()\n",
        "GB_clf = GB_clf.fit(X_res, Y_res)\n",
        "#GB_cv_score = cross_val_score(GB_clf, X_res, Y_res, cv = 10, scoring = \"roc_auc\")\n",
        "#print(\"Mean AUC Score for SVM after SMOTE\")\n",
        "#print(GB_cv_score.mean())\n",
        "\n",
        "resDF = pd.DataFrame(GB_clf.predict(X_test), columns = ['QuoteConversion_Flag'])\n",
        "resultGB = pd.concat([X_test['QuoteNumber'], resDF], axis = 1)\n",
        "resultGB.to_csv(\"/gdrive/My Drive/Assignments/Assignment3/resultGBAfterSMOTE.csv\", index = None)\n"
      ],
      "execution_count": 0,
      "outputs": []
    },
    {
      "cell_type": "code",
      "metadata": {
        "id": "35zPqefEmBNW",
        "colab_type": "code",
        "colab": {
          "base_uri": "https://localhost:8080/",
          "height": 578
        },
        "outputId": "c85c77c5-b3a4-4cad-ffff-ba04220e1936"
      },
      "source": [
        "#stacking all the models\n",
        "models = [clf_tuned, rfc_tuned, GB_clf]\n",
        "\n",
        "S_train, S_test = stacking(models, \n",
        "                           X_res, Y_res, X_test, \n",
        "                           regression = False,\n",
        "                           mode = 'oof_pred_bag',\n",
        "                           needs_proba = False,\n",
        "                           save_dir = None,\n",
        "                           metric = accuracy_score,\n",
        "                           n_folds = 4,\n",
        "                           stratified = True,\n",
        "                           shuffle= True,\n",
        "                           random_state = 0,\n",
        "                           verbose = 2)\n"
      ],
      "execution_count": 50,
      "outputs": [
        {
          "output_type": "stream",
          "text": [
            "task:         [classification]\n",
            "n_classes:    [2]\n",
            "metric:       [accuracy_score]\n",
            "mode:         [oof_pred_bag]\n",
            "n_models:     [3]\n",
            "\n",
            "model  0:     [DecisionTreeClassifier]\n",
            "    fold  0:  [0.92842245]\n",
            "    fold  1:  [0.92562571]\n",
            "    fold  2:  [0.92173130]\n",
            "    fold  3:  [0.92248981]\n",
            "    ----\n",
            "    MEAN:     [0.92456732] + [0.00266183]\n",
            "    FULL:     [0.92456743]\n",
            "\n",
            "model  1:     [RandomForestClassifier]\n",
            "    fold  0:  [0.91074137]\n",
            "    fold  1:  [0.90638036]\n",
            "    fold  2:  [0.91741728]\n",
            "    fold  3:  [0.90902626]\n",
            "    ----\n",
            "    MEAN:     [0.91089132] + [0.00407547]\n",
            "    FULL:     [0.91089121]\n",
            "\n",
            "model  2:     [GradientBoostingClassifier]\n",
            "    fold  0:  [0.94183732]\n",
            "    fold  1:  [0.93918278]\n",
            "    fold  2:  [0.93908220]\n",
            "    fold  3:  [0.93533706]\n",
            "    ----\n",
            "    MEAN:     [0.93885984] + [0.00231458]\n",
            "    FULL:     [0.93885992]\n",
            "\n"
          ],
          "name": "stdout"
        }
      ]
    },
    {
      "cell_type": "code",
      "metadata": {
        "id": "cUBPjDwCymfz",
        "colab_type": "code",
        "colab": {
          "base_uri": "https://localhost:8080/",
          "height": 255
        },
        "outputId": "f3d2b68d-f0af-4a0a-b1c6-f4e5504c0b4b"
      },
      "source": [
        "#checking the data\n",
        "print(S_train)\n",
        "print(S_test)"
      ],
      "execution_count": 32,
      "outputs": [
        {
          "output_type": "stream",
          "text": [
            "[[0 0 0]\n",
            " [0 0 0]\n",
            " [0 0 0]\n",
            " ...\n",
            " [1 1 1]\n",
            " [1 1 1]\n",
            " [1 1 1]]\n",
            "[[0 0 0]\n",
            " [0 0 0]\n",
            " [0 0 0]\n",
            " ...\n",
            " [1 1 1]\n",
            " [0 0 0]\n",
            " [0 0 0]]\n"
          ],
          "name": "stdout"
        }
      ]
    },
    {
      "cell_type": "code",
      "metadata": {
        "id": "Eab7-r3un_PG",
        "colab_type": "code",
        "colab": {}
      },
      "source": [
        "#constructing second level model on top of the stacked model results\n",
        "#Random Forest Trees on stacked results with Hyperparameter tuning\n",
        "RFC = RandomForestClassifier()\n",
        "parameters = {'criterion': ['gini', 'entropy'], 'min_samples_split' : range(50,100,10)}\n",
        "rfc_random = RandomizedSearchCV(RFC, parameters, scoring = \"roc_auc\", cv = 5)\n",
        "rfc_random = rfc_random.fit(S_train, Y_res)\n",
        "random_param = rfc_random.best_params_\n"
      ],
      "execution_count": 0,
      "outputs": []
    },
    {
      "cell_type": "code",
      "metadata": {
        "id": "3UhchhCjFbaF",
        "colab_type": "code",
        "colab": {}
      },
      "source": [
        "#using Random Forest Classifier on the stacked results\n",
        "modelRFC = RandomForestClassifier(**random_param)\n",
        "modelRFC = modelRFC.fit(S_train, Y_res)\n",
        "resDF = pd.DataFrame(modelRFC.predict(S_test), columns= ['QuoteConversion_Flag'])\n",
        "\n",
        "resultModelRFC = pd.concat([X_test['QuoteNumber'], resDF], axis = 1)\n",
        "resultModelRFC.to_csv(\"/gdrive/My Drive/Assignments/Assignment3/StackedResultRFC.csv\", index = None)\n"
      ],
      "execution_count": 0,
      "outputs": []
    },
    {
      "cell_type": "code",
      "metadata": {
        "id": "eJjWFBTYq4S1",
        "colab_type": "code",
        "colab": {}
      },
      "source": [
        "#using Gradient Boosting Classifier on the stacked results\n",
        "modelGBC = GradientBoostingClassifier()\n",
        "modelGBC = modelGBC.fit(S_train, Y_res)\n",
        "resDF = pd.DataFrame(modelGBC.predict(S_test), columns = [\"QuoteConversion_Flag\"])\n",
        "\n",
        "resultModelGBC = pd.concat([X_test['QuoteNumber'], resDF], axis = 1)\n",
        "resultModelGBC.to_csv(\"/gdrive/My Drive/Assignments/Assignment3/StackedResultGBC.csv\", index = None)"
      ],
      "execution_count": 0,
      "outputs": []
    },
    {
      "cell_type": "code",
      "metadata": {
        "id": "1YojPqJhsI1r",
        "colab_type": "code",
        "colab": {}
      },
      "source": [
        "#using Decision Tree Classifier on the stacked results\n",
        "#Decision Trees with Hyperparameter tuning\n",
        "clf = DecisionTreeClassifier()\n",
        "parameters = {'criterion': ['gini', 'entropy'], 'min_samples_split' : range(50,100,10)}\n",
        "clf_random = RandomizedSearchCV(clf, parameters, scoring = \"roc_auc\", n_iter = 15, cv = 5)\n",
        "clf_random = clf_random.fit(X_res, Y_res)\n",
        "random_param = clf_random.best_params_"
      ],
      "execution_count": 0,
      "outputs": []
    },
    {
      "cell_type": "code",
      "metadata": {
        "id": "mzBVbi88GV1B",
        "colab_type": "code",
        "colab": {}
      },
      "source": [
        "#decision tree classifier with new optimum parameters\n",
        "clf_tuned = DecisionTreeClassifier(**random_param)\n",
        "clf_tuned=clf_tuned.fit(S_train,Y_res)\n",
        "#clf_cv_score = cross_val_score(clf_tuned, X_res, Y_res, cv = 10, scoring = \"roc_auc\")\n",
        "#print(\"Mean AUC Score for tuned Decision tree:\")\n",
        "#print(clf_cv_score.mean())\n",
        "\n",
        "resDF = pd.DataFrame(clf_tuned.predict(S_test), columns= ['QuoteConversion_Flag'])\n",
        "resultDTC = pd.concat([X_test['QuoteNumber'], resDF], axis = 1)\n",
        "resultDTC.to_csv(\"/gdrive/My Drive/Assignments/Assignment3/StackedResultDTC.csv\", index = None)\n"
      ],
      "execution_count": 0,
      "outputs": []
    }
  ]
}